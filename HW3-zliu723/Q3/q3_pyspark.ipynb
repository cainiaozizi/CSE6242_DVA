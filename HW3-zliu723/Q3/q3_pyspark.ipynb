{
 "cells": [
  {
   "cell_type": "markdown",
   "metadata": {},
   "source": [
    "# HW3 - Q3 [35 pts]"
   ]
  },
  {
   "cell_type": "markdown",
   "metadata": {},
   "source": [
    "## Important Notices\n",
    "\n",
    "<div class=\"alert alert-block alert-danger\">\n",
    "    WARNING: Do <strong>NOT</strong> add any cells to this Jupyter Notebook, because that will crash the autograder.\n",
    "</div>\n",
    "\n",
    "<div class=\"alert alert-block alert-danger\">\n",
    "    WARNING: Do <strong>NOT</strong> implement any additional libraries into this workbook.\n",
    "</div>\n",
    "\n",
    "All instructions, code comments, etc. in this notebook **are part of the assignment instructions**. That is, if there is instructions about completing a task in this notebook, that task is not optional.  \n",
    "\n",
    "<div class=\"alert alert-block alert-info\">\n",
    "    You <strong>must</strong> implement the following functions in this notebook to receive credit.\n",
    "</div>\n",
    "\n",
    "`user()`\n",
    "\n",
    "`bucket()`\n",
    "\n",
    "`long_trips()`\n",
    "\n",
    "`manhattan_trips()`\n",
    "\n",
    "`weighted_profit()`\n",
    "\n",
    "`final_output()`\n",
    "\n",
    "Each method will be auto-graded using different sets of parameters or data, to ensure that values are not hard-coded.  You may assume we will only use your code to work with data from the NYC-TLC dataset during auto-grading.\n",
    "\n",
    "<div class=\"alert alert-block alert-danger\">\n",
    "    WARNING: Do <strong>NOT</strong> remove or modify the following utility functions:\n",
    "</div>\n",
    "\n",
    "`load_data()`\n",
    "\n",
    "`main()`"
   ]
  },
  {
   "cell_type": "markdown",
   "metadata": {},
   "source": [
    "<div class=\"alert alert-block alert-info\">\n",
    "    Do <strong>not</strong> change the below cell. Run it to initialize your PySpark instance.\n",
    "</div>"
   ]
  },
  {
   "cell_type": "code",
   "execution_count": 1,
   "metadata": {},
   "outputs": [
    {
     "data": {
      "application/vnd.jupyter.widget-view+json": {
       "model_id": "8607cb38ce644f0d918128d844b0bdce",
       "version_major": 2,
       "version_minor": 0
      },
      "text/plain": [
       "VBox()"
      ]
     },
     "metadata": {},
     "output_type": "display_data"
    },
    {
     "name": "stdout",
     "output_type": "stream",
     "text": [
      "Starting Spark application\n"
     ]
    },
    {
     "data": {
      "text/html": [
       "<table>\n",
       "<tr><th>ID</th><th>YARN Application ID</th><th>Kind</th><th>State</th><th>Spark UI</th><th>Driver log</th><th>Current session?</th></tr><tr><td>0</td><td>application_1603303943864_0001</td><td>pyspark</td><td>idle</td><td><a target=\"_blank\" href=\"http://ip-172-31-85-144.ec2.internal:20888/proxy/application_1603303943864_0001/\">Link</a></td><td><a target=\"_blank\" href=\"http://ip-172-31-89-8.ec2.internal:8042/node/containerlogs/container_1603303943864_0001_01_000001/livy\">Link</a></td><td>✔</td></tr></table>"
      ],
      "text/plain": [
       "<IPython.core.display.HTML object>"
      ]
     },
     "metadata": {},
     "output_type": "display_data"
    },
    {
     "data": {
      "application/vnd.jupyter.widget-view+json": {
       "model_id": "",
       "version_major": 2,
       "version_minor": 0
      },
      "text/plain": [
       "FloatProgress(value=0.0, bar_style='info', description='Progress:', layout=Layout(height='25px', width='50%'),…"
      ]
     },
     "metadata": {},
     "output_type": "display_data"
    },
    {
     "name": "stdout",
     "output_type": "stream",
     "text": [
      "SparkSession available as 'spark'.\n"
     ]
    },
    {
     "data": {
      "application/vnd.jupyter.widget-view+json": {
       "model_id": "",
       "version_major": 2,
       "version_minor": 0
      },
      "text/plain": [
       "FloatProgress(value=0.0, bar_style='info', description='Progress:', layout=Layout(height='25px', width='50%'),…"
      ]
     },
     "metadata": {},
     "output_type": "display_data"
    },
    {
     "name": "stdout",
     "output_type": "stream",
     "text": [
      "<SparkContext master=yarn appName=livy-session-0>"
     ]
    }
   ],
   "source": [
    "sc"
   ]
  },
  {
   "cell_type": "markdown",
   "metadata": {},
   "source": [
    "<div class=\"alert alert-block alert-danger\">\n",
    "    WARNING: Do <strong>NOT</strong> remodify the below cell. It contains the function for loading data and all imports, and the function for running your code.\n",
    "</div>"
   ]
  },
  {
   "cell_type": "code",
   "execution_count": 29,
   "metadata": {},
   "outputs": [
    {
     "data": {
      "application/vnd.jupyter.widget-view+json": {
       "model_id": "5a29f5e000b84edeb7e8fdbabd87d3a0",
       "version_major": 2,
       "version_minor": 0
      },
      "text/plain": [
       "VBox()"
      ]
     },
     "metadata": {},
     "output_type": "display_data"
    },
    {
     "data": {
      "application/vnd.jupyter.widget-view+json": {
       "model_id": "",
       "version_major": 2,
       "version_minor": 0
      },
      "text/plain": [
       "FloatProgress(value=0.0, bar_style='info', description='Progress:', layout=Layout(height='25px', width='50%'),…"
      ]
     },
     "metadata": {},
     "output_type": "display_data"
    }
   ],
   "source": [
    "#### DO NOT CHANGE ANYTHING IN THIS CELL ####\n",
    "\n",
    "from pyspark.sql.functions import col\n",
    "\n",
    "def load_data(size='small'):\n",
    "    # Loads the data for this question. Do not change this function.\n",
    "    # This function should only be called with the parameter 'small' or 'large'\n",
    "    \n",
    "    if size != 'small' and size != 'large':\n",
    "        print(\"Invalid size parameter provided. Use only 'small' or 'large'.\")\n",
    "        return\n",
    "    \n",
    "    input_bucket = \"s3://fall2020-cse6242\"\n",
    "    \n",
    "    # Load Trip Data\n",
    "    trip_path = '/'+size+'/yellow_tripdata*'\n",
    "    trips = spark.read.csv(input_bucket + trip_path, header=True, inferSchema=True)\n",
    "    print(\"Trip Count: \",trips.count()) # Prints # of trips (# of records, as each record is one trip)\n",
    "    \n",
    "    # Load Lookup Data\n",
    "    lookup_path = '/'+size+'/taxi*'\n",
    "    lookup = spark.read.csv(input_bucket + lookup_path, header=True, inferSchema=True)\n",
    "    \n",
    "    return trips, lookup\n",
    "\n",
    "def main(size, bucket):\n",
    "    # Runs your functions implemented above.\n",
    "    \n",
    "    print(user())\n",
    "    trips, lookup = load_data(size=size)\n",
    "    trips = long_trips(trips)\n",
    "    mtrips = manhattan_trips(trips, lookup)\n",
    "    wp = weighted_profit(trips, mtrips)\n",
    "    final = final_output(wp,lookup)\n",
    "    \n",
    "    # Outputs the results for you to visually see\n",
    "    final.show()\n",
    "    \n",
    "    # Writes out as a CSV to your bucket.\n",
    "    final.write.csv(bucket)"
   ]
  },
  {
   "cell_type": "markdown",
   "metadata": {},
   "source": [
    "# Implement the below functions for this assignment:\n",
    "<div class=\"alert alert-block alert-danger\">\n",
    "    WARNING: Do <strong>NOT</strong> change any function inputs or outputs, and ensure that the dataframes your code returns align with the schema definitions commented in each function\n",
    "</div>"
   ]
  },
  {
   "cell_type": "markdown",
   "metadata": {},
   "source": [
    "## 3a. [1 pt] Update the `user()` function\n",
    "This function should return your GT username, eg: gburdell3"
   ]
  },
  {
   "cell_type": "code",
   "execution_count": 3,
   "metadata": {},
   "outputs": [
    {
     "data": {
      "application/vnd.jupyter.widget-view+json": {
       "model_id": "d48dc74c15204c36a850e5aac2e06c14",
       "version_major": 2,
       "version_minor": 0
      },
      "text/plain": [
       "VBox()"
      ]
     },
     "metadata": {},
     "output_type": "display_data"
    },
    {
     "data": {
      "application/vnd.jupyter.widget-view+json": {
       "model_id": "",
       "version_major": 2,
       "version_minor": 0
      },
      "text/plain": [
       "FloatProgress(value=0.0, bar_style='info', description='Progress:', layout=Layout(height='25px', width='50%'),…"
      ]
     },
     "metadata": {},
     "output_type": "display_data"
    }
   ],
   "source": [
    "def user():\n",
    "    # Returns a string consisting of your GT username.\n",
    "    return 'Zliu723'"
   ]
  },
  {
   "cell_type": "markdown",
   "metadata": {},
   "source": [
    "## 3b. [2 pts] Update the `long_trips()` function\n",
    "This function filters trips to keep only trips longer than 2 miles."
   ]
  },
  {
   "cell_type": "code",
   "execution_count": 30,
   "metadata": {},
   "outputs": [
    {
     "data": {
      "application/vnd.jupyter.widget-view+json": {
       "model_id": "b0370be47e5041809091dcce499cdd1f",
       "version_major": 2,
       "version_minor": 0
      },
      "text/plain": [
       "VBox()"
      ]
     },
     "metadata": {},
     "output_type": "display_data"
    },
    {
     "data": {
      "application/vnd.jupyter.widget-view+json": {
       "model_id": "",
       "version_major": 2,
       "version_minor": 0
      },
      "text/plain": [
       "FloatProgress(value=0.0, bar_style='info', description='Progress:', layout=Layout(height='25px', width='50%'),…"
      ]
     },
     "metadata": {},
     "output_type": "display_data"
    }
   ],
   "source": [
    "def long_trips(trips):\n",
    "    # Returns a Dataframe with Schema the same as :trips:\n",
    "    trips = trips.filter(col(\"trip_distance\")>=2)\n",
    "    return trips"
   ]
  },
  {
   "cell_type": "markdown",
   "metadata": {},
   "source": [
    "## 3c. [6 pts] Update the `manhattan_trips()` function\n",
    "\n",
    "This function determines the top 20 locations with a `DOLocationID` in manhattan by passenger_count (pcount).\n",
    "\n",
    "Example output formatting:\n",
    "\n",
    "```\n",
    "+--------------+--------+\n",
    "| DOLocationID | pcount |\n",
    "+--------------+--------+\n",
    "|             5|      15|\n",
    "|            16|      12| \n",
    "+--------------+--------+\n",
    "```"
   ]
  },
  {
   "cell_type": "code",
   "execution_count": 31,
   "metadata": {},
   "outputs": [
    {
     "data": {
      "application/vnd.jupyter.widget-view+json": {
       "model_id": "9e9e715b64d54517924ff31c9319649c",
       "version_major": 2,
       "version_minor": 0
      },
      "text/plain": [
       "VBox()"
      ]
     },
     "metadata": {},
     "output_type": "display_data"
    },
    {
     "data": {
      "application/vnd.jupyter.widget-view+json": {
       "model_id": "",
       "version_major": 2,
       "version_minor": 0
      },
      "text/plain": [
       "FloatProgress(value=0.0, bar_style='info', description='Progress:', layout=Layout(height='25px', width='50%'),…"
      ]
     },
     "metadata": {},
     "output_type": "display_data"
    },
    {
     "name": "stdout",
     "output_type": "stream",
     "text": [
      "+------------+------+\n",
      "|DOLocationID|pcount|\n",
      "+------------+------+\n",
      "|         236|521569|\n",
      "|         237|457669|\n",
      "|         161|454203|\n",
      "|         170|374803|\n",
      "|         230|364871|\n",
      "|         162|361011|\n",
      "|         142|338505|\n",
      "|          48|333614|\n",
      "|         239|323879|\n",
      "|         234|316533|\n",
      "|         141|315951|\n",
      "|         186|302751|\n",
      "|         238|277609|\n",
      "|         163|276887|\n",
      "|          79|267789|\n",
      "|          68|262231|\n",
      "|         107|253591|\n",
      "|         263|249380|\n",
      "|         164|244210|\n",
      "|         140|235890|\n",
      "+------------+------+"
     ]
    }
   ],
   "source": [
    "# import pyspark.sql.functions as sf\n",
    "\n",
    "\n",
    "def manhattan_trips(trips, lookup):\n",
    "    # Returns a Dataframe with Schema: DOLocationID, pcount\n",
    "#     df1 = trips.groupBy(col(\"DOLocationID\")).agg({\"passenger_count\":\"sum\"}).withColumn('pcount',col(\"sum(passenger_count)\"))\n",
    "    \n",
    "#     df2 = df1.join(lookup,col(\"DOLocationID\") == col(\"LocationID\")).filter(col(\"Borough\") == \"Manhattan\").select([\"DOLocationID\",\"pcount\"]).orderBy(col(\"pcount\"),ascending =False).limit(20)\n",
    "    \n",
    "    df1 = trips.join(lookup,col(\"DOLocationID\") == col(\"LocationID\")).filter(col(\"Borough\") == \"Manhattan\")\n",
    "    df2 = df1.groupBy(col(\"DOLocationID\")).agg({\"passenger_count\":\"sum\"}).withColumn('pcount',col(\"sum(passenger_count)\"))\n",
    "    df = df2.select([\"DOLocationID\",\"pcount\"]).orderBy(col(\"pcount\"),ascending =False).limit(20)\n",
    "    \n",
    "    return df\n",
    "\n"
   ]
  },
  {
   "cell_type": "markdown",
   "metadata": {},
   "source": [
    "## 3d. [6 pts] Update the `weighted_profit()` function\n",
    "This function should determine the average `total_amount`, the total count of trips, and the total count of trips ending in the top 20 destinations and return the `weighted_profit` as discussed in the homework document.\n",
    "\n",
    "Example output formatting:\n",
    "```\n",
    "+--------------+-------------------+\n",
    "| PULocationID |  weighted_profit  |\n",
    "+--------------+-------------------+\n",
    "|            18| 33.784444421924436| \n",
    "|            12| 21.124577637149223| \n",
    "+--------------+-------------------+\n",
    "```"
   ]
  },
  {
   "cell_type": "code",
   "execution_count": 71,
   "metadata": {},
   "outputs": [
    {
     "data": {
      "application/vnd.jupyter.widget-view+json": {
       "model_id": "6e360d5a488546a0aa8dd1e3e174d336",
       "version_major": 2,
       "version_minor": 0
      },
      "text/plain": [
       "VBox()"
      ]
     },
     "metadata": {},
     "output_type": "display_data"
    },
    {
     "data": {
      "application/vnd.jupyter.widget-view+json": {
       "model_id": "",
       "version_major": 2,
       "version_minor": 0
      },
      "text/plain": [
       "FloatProgress(value=0.0, bar_style='info', description='Progress:', layout=Layout(height='25px', width='50%'),…"
      ]
     },
     "metadata": {},
     "output_type": "display_data"
    }
   ],
   "source": [
    "def weighted_profit(trips, mtrips): \n",
    "    # Returns a Dataframe with Schema: PULocationID, weighted_profit\n",
    "    \n",
    "    #step 1: df1 computes \"average total amount\" and \"total count of all trips\"\n",
    "    df1 = trips.groupBy(col(\"PULocationID\")).agg({\"total_amount\":\"avg\",\"PULocationID\":\"count\"})\n",
    "\n",
    "    #step 2: df2 contains all details with only 20 top DOL locations \n",
    "    mtrips = mtrips.withColumn(\"DOLocationID2\",col(\"DOLocationID\")).drop(col(\"DOLocationID\"))\n",
    "    df2 = trips.join(mtrips,col(\"DOLocationID\") == col(\"DOLocationID2\")).withColumn('PULocationID2',col(\"PULocationID\")).select([\"PULocationID2\",\"DOLocationID2\"])\n",
    "    \n",
    "    #step 3: df3 includes the df1 columns, df3_temp computes new column \"total count of trips ending in the top 20 destinations\"\n",
    "    df3 = df1.join(df2,col(\"PULocationID\")==col(\"PULocationID2\"))\n",
    "    df3_temp = df3.groupBy(col('PULocationID2')).agg({\"PULocationID2\":\"count\"})\n",
    "    \n",
    "    #step 4: add df3_temp's new column into the main dataframe, computer new column \"weighted_profit\"\n",
    "    df4 = df3.drop(col('PULocationID2'))\n",
    "    df4 = df4.join(df3_temp,col(\"PULocationID\")==col(\"PULocationID2\")).withColumn(\"weighted_profit\",col('count(PULocationID2)')/col(\"count(PULocationID)\")*col(\"avg(total_amount)\")) \\\n",
    "             .orderBy(col('PULocationID')) \\\n",
    "            .select([\"PULocationID\",\"weighted_profit\"]) \n",
    "    \n",
    "    #step 5: remove distinct value\n",
    "    df5 = df4.distinct()\n",
    "  \n",
    "    return df5\n",
    "\n"
   ]
  },
  {
   "cell_type": "markdown",
   "metadata": {},
   "source": [
    "## 3e. [5 pts] Update the `final_output()` function\n",
    "This function will take the results of `weighted_profit`, links it to the `borough` and `zone` and returns the top 20 locations with the highest `weighted_profit`.\n",
    "\n",
    "Example output formatting:\n",
    "```\n",
    "+------------+---------+-------------------+\n",
    "|    Zone    | Borough |  weighted_profit  |\n",
    "+----------------------+-------------------+\n",
    "| JFK Airport|   Queens|  16.95897820117925|\n",
    "|     Jamaica|   Queens| 14.879835188762488|\n",
    "+------------+---------+-------------------+\n",
    "```"
   ]
  },
  {
   "cell_type": "code",
   "execution_count": 65,
   "metadata": {},
   "outputs": [
    {
     "data": {
      "application/vnd.jupyter.widget-view+json": {
       "model_id": "7b47685ab7264c3baa56645025c4efc5",
       "version_major": 2,
       "version_minor": 0
      },
      "text/plain": [
       "VBox()"
      ]
     },
     "metadata": {},
     "output_type": "display_data"
    },
    {
     "data": {
      "application/vnd.jupyter.widget-view+json": {
       "model_id": "",
       "version_major": 2,
       "version_minor": 0
      },
      "text/plain": [
       "FloatProgress(value=0.0, bar_style='info', description='Progress:', layout=Layout(height='25px', width='50%'),…"
      ]
     },
     "metadata": {},
     "output_type": "display_data"
    },
    {
     "name": "stdout",
     "output_type": "stream",
     "text": [
      "+--------------------+-------------+------------------+\n",
      "|                Zone|      Borough|   weighted_profit|\n",
      "+--------------------+-------------+------------------+\n",
      "|        Baisley Park|       Queens|21.060544583116098|\n",
      "|     Randalls Island|    Manhattan|20.434121515335207|\n",
      "|       South Jamaica|       Queens| 19.80635321457101|\n",
      "|Flushing Meadows-...|       Queens|19.525570123421407|\n",
      "|         Jamaica Bay|       Queens|           18.5028|\n",
      "|   LaGuardia Airport|       Queens|18.175503156231095|\n",
      "|       Arden Heights|Staten Island|17.625600000000002|\n",
      "|         JFK Airport|       Queens|17.047973108292663|\n",
      "|Saint George/New ...|Staten Island|  16.2431660899654|\n",
      "|        Bloomingdale|    Manhattan|14.711553041789287|\n",
      "|  Murray Hill-Queens|       Queens|14.345707821376667|\n",
      "|     Mariners Harbor|Staten Island|   13.861982421875|\n",
      "|             Jamaica|       Queens|12.427534360693343|\n",
      "|       Rikers Island|        Bronx|           12.3675|\n",
      "|             Maspeth|       Queens|11.908022338501235|\n",
      "|        Astoria Park|       Queens|11.652853535353536|\n",
      "|Springfield Garde...|       Queens|11.561567175193554|\n",
      "|Governor's Island...|    Manhattan|10.202130177514794|\n",
      "|Upper East Side S...|    Manhattan|10.046279042326237|\n",
      "|              Corona|       Queens| 9.913064412510561|\n",
      "+--------------------+-------------+------------------+"
     ]
    }
   ],
   "source": [
    "def final_output(calc, lookup): \n",
    "    # Returns a Dataframe with Schema: Zone, Borough, weighted_profit\n",
    "    df1 = calc.join(lookup,col(\"LocationID\") == col(\"PULocationID\")).select([\"Zone\",\"Borough\",\"weighted_profit\"]).orderBy(col(\"weighted_profit\"),ascending = False).limit(20)\n",
    "    \n",
    "    return df1\n",
    "\n"
   ]
  },
  {
   "cell_type": "markdown",
   "metadata": {},
   "source": [
    "<div class=\"alert alert-block alert-info\">\n",
    "    Test your code on the small dataset first, as the large dataset will take a significantly longer time to run\n",
    "</div>\n",
    "\n",
    "<div class=\"alert alert-block alert-danger\">\n",
    "    WARNING: Do <strong>NOT</strong> use the same bucket url for multiple runs of the `main()` function, as this will cause errors. Make sure to change the name of your output location every time. (ie: s3://cse6242-gburdell3/output-small2)\n",
    "</div>\n",
    "\n",
    "Update the below cell with the address to your bucket, then run the below cell to run your code to store the results in S3.\n",
    "\n",
    "When you have confirmed the results of the small dataset, run it again using the large dataset. Your output file will appear ina folder in your s3 bucket called YOUROUTPUT.csv as a csv file with a name something like part-0000-4d992f7a-0ad3-48f8-8c72-0022984e4b50-c000.csv. Download this file and rename it to q3_output.csv for submission. Do not make any other changes to the file. "
   ]
  },
  {
   "cell_type": "code",
   "execution_count": 68,
   "metadata": {},
   "outputs": [
    {
     "data": {
      "application/vnd.jupyter.widget-view+json": {
       "model_id": "cae1c9e871df495183f5135bf8829a3b",
       "version_major": 2,
       "version_minor": 0
      },
      "text/plain": [
       "VBox()"
      ]
     },
     "metadata": {},
     "output_type": "display_data"
    },
    {
     "data": {
      "application/vnd.jupyter.widget-view+json": {
       "model_id": "",
       "version_major": 2,
       "version_minor": 0
      },
      "text/plain": [
       "FloatProgress(value=0.0, bar_style='info', description='Progress:', layout=Layout(height='25px', width='50%'),…"
      ]
     },
     "metadata": {},
     "output_type": "display_data"
    },
    {
     "name": "stdout",
     "output_type": "stream",
     "text": [
      "Zliu723\n",
      "Trip Count:  187203269\n",
      "+--------------------+-------------+------------------+\n",
      "|                Zone|      Borough|   weighted_profit|\n",
      "+--------------------+-------------+------------------+\n",
      "|        Baisley Park|       Queens|29.360455779130838|\n",
      "|Flushing Meadows-...|       Queens|27.304845733617668|\n",
      "|       South Jamaica|       Queens|26.294916239873483|\n",
      "|     Randalls Island|    Manhattan| 24.15098994022752|\n",
      "|        Astoria Park|       Queens|21.706417112147513|\n",
      "|Briarwood/Jamaica...|       Queens|19.945064631789332|\n",
      "|Springfield Garde...|       Queens|19.468309288781903|\n",
      "|             Jamaica|       Queens|19.283943000137892|\n",
      "|              Corona|       Queens|18.228769248155974|\n",
      "|   LaGuardia Airport|       Queens|18.181338808373003|\n",
      "|         Jamaica Bay|       Queens|  17.1005294467579|\n",
      "|             Maspeth|       Queens|17.005450640079548|\n",
      "|Eltingville/Annad...|Staten Island| 16.83776475694445|\n",
      "|         JFK Airport|       Queens|16.777725348249636|\n",
      "|        Battery Park|    Manhattan|12.849780311142872|\n",
      "| Morningside Heights|    Manhattan| 12.45369802658408|\n",
      "|   Battery Park City|    Manhattan|12.448848404428603|\n",
      "|Greenwich Village...|    Manhattan|12.446949891694034|\n",
      "|       Rikers Island|        Bronx|           12.3063|\n",
      "|  World Trade Center|    Manhattan| 12.29541192413338|\n",
      "+--------------------+-------------+------------------+"
     ]
    }
   ],
   "source": [
    "bucket = 's3://cse6242-zliu723/output_large'\n",
    "\n",
    "#main('small',bucket)\n",
    "main('large', bucket)"
   ]
  },
  {
   "cell_type": "markdown",
   "metadata": {},
   "source": [
    "#### Testing\n",
    "\n",
    "<div class=\"alert alert-block alert-info\">\n",
    "    You may use the below cell for any additional testing you need to do, however any code implemented below will not be run or used when grading\n",
    "</div>"
   ]
  },
  {
   "cell_type": "code",
   "execution_count": 72,
   "metadata": {},
   "outputs": [
    {
     "data": {
      "application/vnd.jupyter.widget-view+json": {
       "model_id": "df0fb4fa3a7141789f345c2180724f3d",
       "version_major": 2,
       "version_minor": 0
      },
      "text/plain": [
       "VBox()"
      ]
     },
     "metadata": {},
     "output_type": "display_data"
    },
    {
     "data": {
      "application/vnd.jupyter.widget-view+json": {
       "model_id": "",
       "version_major": 2,
       "version_minor": 0
      },
      "text/plain": [
       "FloatProgress(value=0.0, bar_style='info', description='Progress:', layout=Layout(height='25px', width='50%'),…"
      ]
     },
     "metadata": {},
     "output_type": "display_data"
    },
    {
     "name": "stdout",
     "output_type": "stream",
     "text": [
      "Trip Count:  7667792\n",
      "root\n",
      " |-- VendorID: integer (nullable = true)\n",
      " |-- tpep_pickup_datetime: timestamp (nullable = true)\n",
      " |-- tpep_dropoff_datetime: timestamp (nullable = true)\n",
      " |-- passenger_count: integer (nullable = true)\n",
      " |-- trip_distance: double (nullable = true)\n",
      " |-- RatecodeID: integer (nullable = true)\n",
      " |-- store_and_fwd_flag: string (nullable = true)\n",
      " |-- PULocationID: integer (nullable = true)\n",
      " |-- DOLocationID: integer (nullable = true)\n",
      " |-- payment_type: integer (nullable = true)\n",
      " |-- fare_amount: double (nullable = true)\n",
      " |-- extra: double (nullable = true)\n",
      " |-- mta_tax: double (nullable = true)\n",
      " |-- tip_amount: double (nullable = true)\n",
      " |-- tolls_amount: double (nullable = true)\n",
      " |-- improvement_surcharge: double (nullable = true)\n",
      " |-- total_amount: double (nullable = true)\n",
      " |-- congestion_surcharge: double (nullable = true)\n",
      "\n",
      "root\n",
      " |-- LocationID: integer (nullable = true)\n",
      " |-- Borough: string (nullable = true)\n",
      " |-- Zone: string (nullable = true)\n",
      " |-- service_zone: string (nullable = true)\n",
      "\n",
      "+--------+--------------------+---------------------+---------------+-------------+----------+------------------+------------+------------+------------+-----------+-----+-------+----------+------------+---------------------+------------+--------------------+\n",
      "|VendorID|tpep_pickup_datetime|tpep_dropoff_datetime|passenger_count|trip_distance|RatecodeID|store_and_fwd_flag|PULocationID|DOLocationID|payment_type|fare_amount|extra|mta_tax|tip_amount|tolls_amount|improvement_surcharge|total_amount|congestion_surcharge|\n",
      "+--------+--------------------+---------------------+---------------+-------------+----------+------------------+------------+------------+------------+-----------+-----+-------+----------+------------+---------------------+------------+--------------------+\n",
      "|       1| 2019-01-01 00:59:47|  2019-01-01 01:18:59|              1|          2.6|         1|                 N|         239|         246|           1|       14.0|  0.5|    0.5|       1.0|         0.0|                  0.3|        16.3|                null|\n",
      "|       1| 2019-01-01 00:32:01|  2019-01-01 00:45:39|              1|          3.7|         1|                 N|         229|           7|           1|       13.5|  0.5|    0.5|       3.7|         0.0|                  0.3|        18.5|                null|\n",
      "|       1| 2019-01-01 00:57:32|  2019-01-01 01:09:32|              2|          2.1|         1|                 N|         141|         234|           1|       10.0|  0.5|    0.5|       1.7|         0.0|                  0.3|        13.0|                null|\n",
      "|       1| 2019-01-01 00:24:04|  2019-01-01 00:47:06|              2|          2.8|         1|                 N|         246|         162|           1|       15.0|  0.5|    0.5|      3.25|         0.0|                  0.3|       19.55|                null|\n",
      "|       1| 2019-01-01 00:45:21|  2019-01-01 01:31:05|              1|          8.7|         1|                 N|         163|          25|           1|       34.5|  0.5|    0.5|      7.15|         0.0|                  0.3|       42.95|                null|\n",
      "+--------+--------------------+---------------------+---------------+-------------+----------+------------------+------------+------------+------------+-----------+-----+-------+----------+------------+---------------------+------------+--------------------+\n",
      "only showing top 5 rows\n",
      "\n",
      "+------------+------+\n",
      "|DOLocationID|pcount|\n",
      "+------------+------+\n",
      "|         236|521569|\n",
      "|         237|457669|\n",
      "|         161|454203|\n",
      "|         170|374803|\n",
      "|         230|364871|\n",
      "|         162|361011|\n",
      "|         142|338505|\n",
      "|          48|333614|\n",
      "|         239|323879|\n",
      "|         234|316533|\n",
      "|         141|315951|\n",
      "|         186|302751|\n",
      "|         238|277609|\n",
      "|         163|276887|\n",
      "|          79|267789|\n",
      "|          68|262231|\n",
      "|         107|253591|\n",
      "|         263|249380|\n",
      "|         164|244210|\n",
      "|         140|235890|\n",
      "+------------+------+\n",
      "\n",
      "+------------+------------------+\n",
      "|PULocationID|   weighted_profit|\n",
      "+------------+------------------+\n",
      "|           1|  1.04017399304229|\n",
      "|           2|18.502800000000004|\n",
      "|           3|  4.07843657142857|\n",
      "|           4|5.3829649689633365|\n",
      "|           5|17.625600000000002|\n",
      "|           6|3.4701377410468313|\n",
      "|           7|1.8503310768584438|\n",
      "|           8|11.652853535353536|\n",
      "|           9|0.8418044077134988|\n",
      "|          10|21.060544583116087|\n",
      "+------------+------------------+\n",
      "only showing top 10 rows\n",
      "\n",
      "+--------------------+-------------+------------------+\n",
      "|                Zone|      Borough|   weighted_profit|\n",
      "+--------------------+-------------+------------------+\n",
      "|        Baisley Park|       Queens|21.060544583116098|\n",
      "|     Randalls Island|    Manhattan|20.434121515335207|\n",
      "|       South Jamaica|       Queens|19.806353214571015|\n",
      "|Flushing Meadows-...|       Queens|19.525570123421407|\n",
      "|         Jamaica Bay|       Queens|18.502800000000004|\n",
      "|   LaGuardia Airport|       Queens|18.175503156231095|\n",
      "|       Arden Heights|Staten Island|17.625600000000002|\n",
      "|         JFK Airport|       Queens|17.047973108292666|\n",
      "|Saint George/New ...|Staten Island|  16.2431660899654|\n",
      "|        Bloomingdale|    Manhattan|14.711553041789289|\n",
      "|  Murray Hill-Queens|       Queens|14.345707821376667|\n",
      "|     Mariners Harbor|Staten Island|13.861982421875002|\n",
      "|             Jamaica|       Queens|12.427534360693343|\n",
      "|       Rikers Island|        Bronx|           12.3675|\n",
      "|             Maspeth|       Queens|11.908022338501233|\n",
      "|        Astoria Park|       Queens|11.652853535353538|\n",
      "|Springfield Garde...|       Queens|11.561567175193554|\n",
      "|Governor's Island...|    Manhattan|10.202130177514793|\n",
      "|Upper East Side S...|    Manhattan|10.046279042326235|\n",
      "|              Corona|       Queens| 9.913064412510563|\n",
      "+--------------------+-------------+------------------+"
     ]
    }
   ],
   "source": [
    "df = load_data(size='small')\n",
    "\n",
    "\n",
    "df[0].printSchema()  #the trips dataframe\n",
    "df[1].printSchema() #the lookup dataframe\n",
    "\n",
    "\n",
    "q3b= long_trips(df[0])\n",
    "q3b.show(5)\n",
    "\n",
    "q3c =manhattan_trips(df[0], df[1])\n",
    "q3c.show(20)\n",
    "\n",
    "\n",
    "q3d =weighted_profit(df[0], q3c)\n",
    "q3d.show(10)\n",
    "\n",
    "\n",
    "q3e =final_output(q3d,df[1])\n",
    "q3e.show(20)"
   ]
  }
 ],
 "metadata": {
  "kernelspec": {
   "display_name": "PySpark",
   "language": "",
   "name": "pysparkkernel"
  },
  "language_info": {
   "codemirror_mode": {
    "name": "python",
    "version": 2
   },
   "mimetype": "text/x-python",
   "name": "pyspark",
   "pygments_lexer": "python2"
  }
 },
 "nbformat": 4,
 "nbformat_minor": 4
}
